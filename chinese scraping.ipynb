{
 "cells": [
  {
   "cell_type": "code",
   "execution_count": 7,
   "metadata": {},
   "outputs": [],
   "source": [
    "# beautifulsoup is for parsing html\n",
    "from bs4 import BeautifulSoup\n",
    "\n",
    "# requests is for making web requests\n",
    "import requests as req"
   ]
  },
  {
   "cell_type": "code",
   "execution_count": 181,
   "metadata": {
    "collapsed": true
   },
   "outputs": [],
   "source": [
    "# we need to pretend to be a real browser or else the site responds with a 403 error\n",
    "headers = {'User-Agent': 'Mozilla/5.0 (Macintosh; Intel Mac OS X 10_11_5) AppleWebKit/537.36 (KHTML, like Gecko) Chrome/50.0.2661.102 Safari/537.36'}\n",
    "url = 'https://www.rong360.com/chengdu/search.html?loan_limit=10&loan_term=12'\n",
    "\n",
    "resp = req.get(url, headers=headers)"
   ]
  },
  {
   "cell_type": "code",
   "execution_count": 186,
   "metadata": {},
   "outputs": [],
   "source": [
    "# decode and parse the webpage\n",
    "html = resp.content.decode()\n",
    "soup = BeautifulSoup(html, 'html.parser')"
   ]
  },
  {
   "cell_type": "code",
   "execution_count": 189,
   "metadata": {},
   "outputs": [
    {
     "name": "stdout",
     "output_type": "stream",
     "text": [
      "['对年龄有要求', '一年内有车贷还款记录', '要求本地车牌']\n",
      "['对年龄有要求', '一年内有房贷还款记录', '房贷连续还款超过一定次数']\n",
      "['要求有房产']\n",
      "['要求有房产']\n",
      "['打卡工资大于2000元', '有职业身份要求', '对信用情况有要求']\n",
      "['基本满足要求']\n"
     ]
    }
   ],
   "source": [
    "# from looking at the page source, all the rows we care about are in\n",
    "# <ul> elements of class 'meta_sep reqs'\n",
    "for ul in soup.find_all('ul', class_='meta_sep reqs'):\n",
    "    print([li.text for li in ul.find_all('li')])"
   ]
  },
  {
   "cell_type": "code",
   "execution_count": null,
   "metadata": {
    "collapsed": true
   },
   "outputs": [],
   "source": []
  }
 ],
 "metadata": {
  "kernelspec": {
   "display_name": "Python 3",
   "language": "python",
   "name": "python3"
  },
  "language_info": {
   "codemirror_mode": {
    "name": "ipython",
    "version": 3
   },
   "file_extension": ".py",
   "mimetype": "text/x-python",
   "name": "python",
   "nbconvert_exporter": "python",
   "pygments_lexer": "ipython3",
   "version": "3.5.4"
  }
 },
 "nbformat": 4,
 "nbformat_minor": 2
}
