{
 "cells": [
  {
   "cell_type": "markdown",
   "metadata": {},
   "source": [
    "<img src=\"keithleycrop.png\" width=700 >"
   ]
  },
  {
   "cell_type": "markdown",
   "metadata": {},
   "source": [
    "# Python for taking measurements\n",
    "\n",
    "Advantages of using python for measurements:\n",
    "- readable code\n",
    "- easier to modify existing code\n",
    "- easier to implement control logic (loops, if/then statements, etc)\n",
    "- don't need to worry about LabVIEW versions\n",
    "\n",
    "### Jupyter / IPython notebooks\n",
    "\n",
    "- browser-based interactive python \n",
    "- can combine code, plots, formatted text all in one document\n",
    "- easy to share files (no dependencies)"
   ]
  },
  {
   "cell_type": "code",
   "execution_count": 1,
   "metadata": {
    "collapsed": true,
    "slideshow": {
     "slide_type": "-"
    }
   },
   "outputs": [],
   "source": [
    "# required to make plots show up\n",
    "%matplotlib inline"
   ]
  },
  {
   "cell_type": "markdown",
   "metadata": {},
   "source": [
    "### python libraries\n",
    "\n",
    "Most of python's functionality comes from extra libraries that you can include in your own programs. This isn't going to be a general introduction to using python for data analysis; if you want to learn more, some basic tools worth looking into are:\n",
    "\n",
    "- **matplotlib** - the standard python plotting library\n",
    "\n",
    "- **pandas** - a really good library for working with tables of data\n",
    "\n",
    "- **scipy** - lots of premade functions to fit curves, integrate stuff, etc\n",
    "\n",
    "\n",
    "Here I'm going to talk about two libraries that I made to control instruments that we use:\n",
    "\n",
    "**keithley** - a module for interfacing with Keithley 2400s\n",
    "\n",
    "**ppms** - a module for interfacing with the PPMS\n",
    "\n",
    "The basic syntax for importing libraries is shown below:"
   ]
  },
  {
   "cell_type": "code",
   "execution_count": 4,
   "metadata": {
    "collapsed": false,
    "slideshow": {
     "slide_type": "-"
    }
   },
   "outputs": [],
   "source": [
    "import matplotlib.pyplot as plt\n",
    "import numpy as np\n",
    "import pandas as pd\n",
    "import time\n",
    "\n",
    "from IPython import display"
   ]
  },
  {
   "cell_type": "code",
   "execution_count": 58,
   "metadata": {
    "collapsed": true
   },
   "outputs": [],
   "source": [
    "# convenience function to make updating plots\n",
    "def updatingPlot(xs, ys):\n",
    "    plt.clf()\n",
    "    plt.plot(xs, ys, 'o-')\n",
    "    display.display(plt.gcf())\n",
    "    display.clear_output(wait=True)"
   ]
  },
  {
   "cell_type": "markdown",
   "metadata": {},
   "source": [
    "## Using the Keithley2400 class"
   ]
  },
  {
   "cell_type": "code",
   "execution_count": 6,
   "metadata": {
    "collapsed": false
   },
   "outputs": [],
   "source": [
    "# import the Keithley2400 class\n",
    "from keithley import Keithley2400, saveToFile\n",
    "\n",
    "# connect to the keithley\n",
    "sd_keithley = Keithley2400(23)\n",
    "\n",
    "# configure the keithley\n",
    "sd_keithley.setMeasure('current')\n",
    "sd_keithley.setSourceDC('voltage')\n",
    "sd_keithley.setCompliance('current', 1E-6)"
   ]
  },
  {
   "cell_type": "markdown",
   "metadata": {},
   "source": [
    "### Example #1: Measuring an I-V curve"
   ]
  },
  {
   "cell_type": "code",
   "execution_count": 23,
   "metadata": {
    "collapsed": false,
    "slideshow": {
     "slide_type": "-"
    }
   },
   "outputs": [
    {
     "data": {
      "image/png": "[encoded data removed]",
      "text/plain": [
       "<matplotlib.figure.Figure at 0xefd26a0>"
      ]
     },
     "metadata": {},
     "output_type": "display_data"
    }
   ],
   "source": [
    "sd_keithley = Keithley2400(23)\n",
    "\n",
    "# define some parameters\n",
    "v_min = -10E-3\n",
    "v_max = 30E-3\n",
    "v_step = 1E-3\n",
    "\n",
    "# turn the output on\n",
    "sd_keithley.outputOn()\n",
    "\n",
    "for volts in np.arange(v_min, v_max, v_step):\n",
    "\n",
    "    # set the keithley output, then take a measurement\n",
    "    sd_keithley.setSourceDC('voltage', volts)\n",
    "    sd_keithley.measurePoint()\n",
    "\n",
    "    # do some plotting stuff\n",
    "    updatingPlot(sd_keithley.data['volts'], sd_keithley.data['amps'])\n",
    "    \n",
    "# turn the keithley output off\n",
    "sd_keithley.outputOff()"
   ]
  },
  {
   "cell_type": "markdown",
   "metadata": {},
   "source": [
    "### Example #2: Working with collected data\n",
    "\n",
    "Data from the most recent measurement is stored in the '`data`' attribute of a Keithley2400 variable. Each type of measurement can be accessed by adding `['unit']` after `data`, where `'unit'` is one of volts, amps, or ohms."
   ]
  },
  {
   "cell_type": "code",
   "execution_count": 25,
   "metadata": {
    "collapsed": false
   },
   "outputs": [
    {
     "name": "stdout",
     "output_type": "stream",
     "text": [
      "source-drain resistance data points\n",
      "[1002560.0, 1005113.0, 1006014.0, 1005753.0, 1006194.0, 1006050.0, 1015177.0, 1005036.0, 1003798.0, 1005425.0, 1006938.0, 1005205.0, 1005968.0, 1006050.0, 1006902.0, 1005820.0, 1005860.0, 1005834.0, 1006127.0, 1006080.0, 1006137.0, 1006060.0, 1005911.0, 1005953.0, 1005921.0, 1006297.0, 1006009.0, 1006173.0, 1005901.0, 1005860.0, 1005712.0, 1005881.0, 1005927.0, 1005978.0, 1006034.0, 1005922.0, 1006075.0, 1005778.0, 1005424.0, 1006035.0]\n",
      "\n",
      "gate voltage data points\n",
      "[-2.0, -1.9, -1.8, -1.7, -1.6, -1.5, -1.4, -1.3, -1.2, -1.1, -1.0, -0.9, -0.8, -0.7, -0.6, -0.5, -0.4, -0.3, -0.2, -0.1, 0.0, 0.1, 0.2, 0.3, 0.4, 0.5, 0.6, 0.7, 0.8, 0.9, 1.0, 1.1, 1.2, 1.3, 1.4, 1.5, 1.6, 1.7, 1.8, 1.9]\n"
     ]
    }
   ],
   "source": [
    "print('source-drain resistance data points')\n",
    "print(sd_keithley.data['ohms'])\n",
    "print\n",
    "print('gate voltage data points')\n",
    "print(gate_keithley.data['volts'])"
   ]
  },
  {
   "cell_type": "markdown",
   "metadata": {},
   "source": [
    "**Saving to file**\n",
    "Data can be saved to a file using the `saveToFile` function that is included in the keithley library. The function takes four arguments:\n",
    "\n",
    "- a list of column headings\n",
    "- a list of data lists\n",
    "- a filename\n",
    "- (optional) a file path, if none is provided it saves to the same directory as the jupyter notebook file"
   ]
  },
  {
   "cell_type": "code",
   "execution_count": 26,
   "metadata": {
    "collapsed": true
   },
   "outputs": [],
   "source": [
    "headers = ['gate voltage', 'gate current', 'sd resistance']\n",
    "data = [gate_keithley.data['volts'], gate_keithley.data['amps'], sd_keithley.data['ohms']]\n",
    "\n",
    "# save the data to a file\n",
    "saveToFile(data, headers, 'filename.txt', 'C:/users/hinnefe2/projects/ipython notebooks/groupmeeting/')"
   ]
  },
  {
   "cell_type": "markdown",
   "metadata": {
    "collapsed": false
   },
   "source": [
    "### Example #3: Doing a gate sweep"
   ]
  },
  {
   "cell_type": "code",
   "execution_count": 24,
   "metadata": {
    "collapsed": false
   },
   "outputs": [
    {
     "data": {
      "image/png": "[encoded data removed]",
      "text/plain": [
       "<matplotlib.figure.Figure at 0xbec75f8>"
      ]
     },
     "metadata": {},
     "output_type": "display_data"
    }
   ],
   "source": [
    "# connect to the keithleys\n",
    "sd_keithley = Keithley2400(23)\n",
    "gate_keithley = Keithley2400(24)\n",
    "\n",
    "# configure the keithleys\n",
    "sd_keithley.setMeasure('resistance')\n",
    "sd_keithley.setSourceDC('voltage', 10E-3)\n",
    "sd_keithley.setCompliance('current', 1E-6)\n",
    "\n",
    "gate_keithley.setMeasure('current')\n",
    "gate_keithley.setSourceDC('voltage')\n",
    "gate_keithley.setCompliance('current', 1E-6)\n",
    "\n",
    "# define some parameters\n",
    "vg_min = -2\n",
    "vg_max = 2\n",
    "vg_step = 0.1\n",
    "\n",
    "# turn the outputs on\n",
    "sd_keithley.outputOn()\n",
    "gate_keithley.outputOn()\n",
    "\n",
    "for volts in np.arange(vg_min, vg_max, vg_step):\n",
    "\n",
    "    # set the keithley output, then take a measurement\n",
    "    gate_keithley.setSourceDC('voltage', volts)\n",
    "    sd_keithley.measurePoint()\n",
    "    gate_keithley.measurePoint()\n",
    "\n",
    "    # do some plotting stuff\n",
    "    updatingPlot(gate_keithley.data['volts'], sd_keithley.data['ohms'])\n",
    "    plt.xlabel('Gate voltage (V)')\n",
    "    plt.ylabel('Source-drain resistance (Ohms)')\n",
    "    \n",
    "# turn the keithley output off\n",
    "sd_keithley.outputOff()\n",
    "gate_keithley.outputOff()"
   ]
  },
  {
   "cell_type": "markdown",
   "metadata": {
    "collapsed": false
   },
   "source": [
    "### Best practices for using the Keithley2400 class\n",
    "\n",
    "Always re-initialize the keithley before performing a new measurement. This way you won't accidentally have left-over settings or data from the previous run.\n",
    "\n",
    "    sd_keithley = Keithley2400(23)\n",
    "    \n",
    "If you'd rather ramp the outputs on and off (instead of turning them on and off as a step function) you can use:\n",
    "\n",
    "    sd_keithley.rampOutputOn(ramp target value, step)\n",
    "    sd_keithley.rampOutputOff(ramp starting value, step)"
   ]
  },
  {
   "cell_type": "markdown",
   "metadata": {},
   "source": [
    "## Using the PPMS class"
   ]
  },
  {
   "cell_type": "code",
   "execution_count": 57,
   "metadata": {
    "collapsed": false
   },
   "outputs": [],
   "source": [
    "import ppms"
   ]
  },
  {
   "cell_type": "code",
   "execution_count": 41,
   "metadata": {
    "collapsed": false,
    "scrolled": true
   },
   "outputs": [],
   "source": [
    "# connect to the PPMS\n",
    "dynacool = ppms.Dynacool('128.174.164.42')"
   ]
  },
  {
   "cell_type": "markdown",
   "metadata": {},
   "source": [
    "### Example #1: Doing a field sweep"
   ]
  },
  {
   "cell_type": "code",
   "execution_count": 56,
   "metadata": {
    "collapsed": false
   },
   "outputs": [
    {
     "data": {
      "text/plain": [
       "0"
      ]
     },
     "execution_count": 56,
     "metadata": {},
     "output_type": "execute_result"
    },
    {
     "data": {
      "image/png": "[encoded data removed]",
      "text/plain": [
       "<matplotlib.figure.Figure at 0xf6c3c88>"
      ]
     },
     "metadata": {},
     "output_type": "display_data"
    }
   ],
   "source": [
    "# connect to the keithley\n",
    "sd_keithley = Keithley2400(23)\n",
    "\n",
    "# configure the keithley\n",
    "sd_keithley.setMeasure('resistance')\n",
    "sd_keithley.setSourceDC('voltage', 10E-3)\n",
    "sd_keithley.setCompliance('current', 1E-6)\n",
    "\n",
    "# define some parameters\n",
    "field_min = -6E2\n",
    "field_max = 6E2\n",
    "field_step = 200\n",
    "\n",
    "# turn the outputs on\n",
    "sd_keithley.outputOn()\n",
    "\n",
    "\n",
    "field_data = []\n",
    "\n",
    "for field in np.arange(field_min, field_max, field_step):\n",
    "\n",
    "    # set the field\n",
    "    dynacool.setField(field, 200)\n",
    "    # wait for the field to stabilize\n",
    "    dynacool.waitForField()\n",
    "    # take a measurement\n",
    "    sd_keithley.measurePoint()\n",
    "    field_data.append(field)\n",
    "\n",
    "    # do some plotting stuff\n",
    "    updatingPlot(field_data, sd_keithley.data['ohms'])\n",
    "\n",
    "# sweep back down\n",
    "for field in np.arange(field_max, field_min, -field_step):\n",
    "\n",
    "    dynacool.setField(field, 200)\n",
    "    dynacool.waitForField()\n",
    "    sd_keithley.measurePoint()\n",
    "    field_data.append(field)\n",
    "\n",
    "    updatingPlot(field_data, sd_keithley.data['ohms'])  \n",
    "\n",
    "    \n",
    "# turn the keithley output off\n",
    "sd_keithley.outputOff();\n",
    "\n",
    "# set the field back to 0\n",
    "dynacool.setField(0,200);"
   ]
  },
  {
   "cell_type": "code",
   "execution_count": 17,
   "metadata": {
    "collapsed": false
   },
   "outputs": [
    {
     "name": "stdout",
     "output_type": "stream",
     "text": [
      "Help on instance of Dynacool in module ppms:\n",
      "\n",
      "class Dynacool\n",
      " |  Thin wrapper around the QuantumDesign.QDInstrument.QDInstrumentBase class\n",
      " |  \n",
      " |  Methods defined here:\n",
      " |  \n",
      " |  __init__(self, ip_address, remote=True)\n",
      " |  \n",
      " |  getField(self)\n",
      " |  \n",
      " |  getTemperature(self)\n",
      " |  \n",
      " |  setField(self, field, rate)\n",
      " |  \n",
      " |  setTemperature(self, temp, rate)\n",
      " |  \n",
      " |  waitForField(self, delay=5, timeout=600)\n",
      " |  \n",
      " |  waitForTemperature(self, delay=5, timeout=600)\n",
      "\n"
     ]
    }
   ],
   "source": [
    "help(dynacool)"
   ]
  },
  {
   "cell_type": "markdown",
   "metadata": {},
   "source": [
    "## Making libraries for other instruments\n",
    "\n",
    "... is not really that hard, actually. The basic process is:\n",
    "\n",
    "1. find a manual for the instrument\n",
    "2. look for the section that describes GPIB commands\n",
    "3. write some python that sends the right GPIB commands\n",
    "\n",
    "As an example, here's a section of the SR 830 manual:\n",
    "\n",
    "\n",
    "<img src='sr830.png'>"
   ]
  },
  {
   "cell_type": "markdown",
   "metadata": {},
   "source": [
    "So all we need to do is write some code that sends 'FREQ?'  or 'FREQ x' to the SR 830. Conveniently, there's already a python library that can talk to GPIB instruments."
   ]
  },
  {
   "cell_type": "code",
   "execution_count": 62,
   "metadata": {
    "collapsed": true
   },
   "outputs": [],
   "source": [
    "from visa import GpibInstrument\n",
    "\n",
    "sr830 = GpibInstrument(\"GPIB::8\")"
   ]
  },
  {
   "cell_type": "code",
   "execution_count": 64,
   "metadata": {
    "collapsed": false
   },
   "outputs": [
    {
     "data": {
      "text/plain": [
       "[7.726]"
      ]
     },
     "execution_count": 64,
     "metadata": {},
     "output_type": "execute_result"
    }
   ],
   "source": [
    "sr830.ask_for_values(\"FREQ?\")"
   ]
  },
  {
   "cell_type": "code",
   "execution_count": 67,
   "metadata": {
    "collapsed": true
   },
   "outputs": [],
   "source": [
    "sr830.write(\"FREQ 7.6\")"
   ]
  },
  {
   "cell_type": "code",
   "execution_count": 69,
   "metadata": {
    "collapsed": false
   },
   "outputs": [
    {
     "data": {
      "text/plain": [
       "[7.6]"
      ]
     },
     "execution_count": 69,
     "metadata": {},
     "output_type": "execute_result"
    }
   ],
   "source": [
    "sr830.ask_for_values(\"FREQ?\")"
   ]
  },
  {
   "cell_type": "markdown",
   "metadata": {},
   "source": [
    "We can easily write a function that makes this more convenient"
   ]
  },
  {
   "cell_type": "code",
   "execution_count": 76,
   "metadata": {
    "collapsed": false
   },
   "outputs": [
    {
     "data": {
      "text/plain": [
       "[7.7]"
      ]
     },
     "execution_count": 76,
     "metadata": {},
     "output_type": "execute_result"
    }
   ],
   "source": [
    "def setFreq(instrument, freq):\n",
    "    instrument.write(\"FREQ {}\".format(freq))\n",
    "    \n",
    "def getFreq(instrument):\n",
    "    return instrument.ask_for_values('FREQ?')\n",
    "\n",
    "setFreq(sr830, 7.7)\n",
    "getFreq(sr830)"
   ]
  },
  {
   "cell_type": "markdown",
   "metadata": {},
   "source": [
    "And finally we can combine our functions into a class to make things tidier"
   ]
  },
  {
   "cell_type": "code",
   "execution_count": 80,
   "metadata": {
    "collapsed": false
   },
   "outputs": [
    {
     "data": {
      "text/plain": [
       "[7.7]"
      ]
     },
     "execution_count": 80,
     "metadata": {},
     "output_type": "execute_result"
    }
   ],
   "source": [
    "class sr830(GpibInstrument):\n",
    "    \n",
    "    def __init__(self, GPIBaddr):\n",
    "        super(sr830, self).__init__(\"GPIB::%d\" % GPIBaddr)\n",
    "        \n",
    "    def setFreq(self, freq):\n",
    "        self.write(\"FREQ {}\".format(freq))\n",
    "    \n",
    "    def getFreq(self):\n",
    "        return self.ask_for_values('FREQ?')\n",
    "\n",
    "\n",
    "sr830_instance = sr830(8)\n",
    "\n",
    "sr830_instance.getFreq()"
   ]
  },
  {
   "cell_type": "code",
   "execution_count": null,
   "metadata": {
    "collapsed": true
   },
   "outputs": [],
   "source": []
  }
 ],
 "metadata": {
  "kernelspec": {
   "display_name": "Python 2",
   "language": "python",
   "name": "python2"
  },
  "language_info": {
   "codemirror_mode": {
    "name": "ipython",
    "version": 2
   },
   "file_extension": ".py",
   "mimetype": "text/x-python",
   "name": "python",
   "nbconvert_exporter": "python",
   "pygments_lexer": "ipython2",
   "version": "2.7.10"
  }
 },
 "nbformat": 4,
 "nbformat_minor": 0
}
